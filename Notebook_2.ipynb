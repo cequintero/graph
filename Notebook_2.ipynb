{
  "nbformat": 4,
  "nbformat_minor": 0,
  "metadata": {
    "colab": {
      "name": "Notebook 2.ipynb",
      "provenance": [],
      "authorship_tag": "ABX9TyNk7kr0nPmZapyeSW2Cnj/4",
      "include_colab_link": true
    },
    "kernelspec": {
      "name": "python3",
      "display_name": "Python 3"
    },
    "language_info": {
      "name": "python"
    }
  },
  "cells": [
    {
      "cell_type": "markdown",
      "metadata": {
        "id": "view-in-github",
        "colab_type": "text"
      },
      "source": [
        "<a href=\"https://colab.research.google.com/github/cequintero/graph/blob/main/Notebook_2.ipynb\" target=\"_parent\"><img src=\"https://colab.research.google.com/assets/colab-badge.svg\" alt=\"Open In Colab\"/></a>"
      ]
    },
    {
      "cell_type": "code",
      "metadata": {
        "id": "yUAAqjsubtVS"
      },
      "source": [
        ""
      ],
      "execution_count": null,
      "outputs": []
    },
    {
      "cell_type": "code",
      "metadata": {
        "id": "SVt9l0rUNAuV"
      },
      "source": [
        "# importacion de datos desde repo de GitHub\n",
        "import pandas as pd\n",
        "import numpy as np\n",
        "\n",
        "url = 'https://raw.githubusercontent.com/cequintero/graph/main/jonramos_Adyacencia.csv'\n",
        "adya = pd.read_csv (url, header=None)\n",
        "\n",
        "url2 = 'https://raw.githubusercontent.com/cequintero/graph/main/jonramos_Grafo01.csv'\n",
        "coord = pd.read_csv (url2, header=None)\n",
        "\n",
        "# El conjunto de datos ahora se almacena en un marco de datos de Pandas\n",
        "\n",
        "# Posteriromente se procesa para hacer mas facil su uso\n",
        "\n",
        "coordenadas, adyacencia = [], []\n",
        "\n",
        "for x in coord[0]:\n",
        "  coordenadas.append(x.split(\";\"))\n",
        "\n",
        "for x in adya[0]:\n",
        "  adyacencia.append(x.split(\";\"))\n"
      ],
      "execution_count": 25,
      "outputs": []
    },
    {
      "cell_type": "code",
      "metadata": {
        "id": "8sxKa3475HE0"
      },
      "source": [
        "import networkx as nx\n",
        "\n",
        "# generamos un diccionario para las coordenadas\n",
        "# 0 -> nombre ej: A ; 1 -> x; 2 -> y \n",
        "nodos = dict((x[0], (int(x[1]), int(x[2]))) for x in coordenadas)\n",
        "\n",
        "# Inicializa un grafo vacio\n",
        "G = nx.Graph()\n",
        "\n",
        "# añadir los nodos al grafo\n",
        "for key in nodos:\n",
        "    G.add_node(key)\n"
      ],
      "execution_count": 26,
      "outputs": []
    },
    {
      "cell_type": "code",
      "metadata": {
        "id": "iuuY3jPj6OAw"
      },
      "source": [
        "edgeList = []\n",
        "\n",
        "# recorre la matriz de adyacencia\n",
        "for row, a in enumerate(adyacencia):\n",
        "    for column, c in enumerate(a):\n",
        "        # 1 => nodos conectados.\n",
        "        if c == '1':\n",
        "          # Por cada 1 se añade el valor de la letra en esa fila y columna como pareja de datos en la lista de aristas\n",
        "          edgeList.append((a[0], adyacencia[column-1][0]))\n",
        "        else:\n",
        "            continue\n",
        "\n",
        "# Añadir la lista de aristas al grafo\n",
        "G.add_edges_from(edgeList)\n"
      ],
      "execution_count": 27,
      "outputs": []
    },
    {
      "cell_type": "code",
      "metadata": {
        "id": "itO9A41aGSg_"
      },
      "source": [
        "import math\n",
        "\n",
        "#lista de pesos\n",
        "weightedList = []\n",
        "\n",
        "# Se extraen las llaves del diccionario de nodos en una lista para poder ser iteradas de manera mas comoda\n",
        "llaves = list(nodos.keys())\n",
        "count = 0\n",
        "\n",
        "# Se recorre las llaves de tal manera que se puedan evaluar todos los nodos para verificar si estan conectados o no\n",
        "for i in range(len(llaves)):\n",
        "    for j in range(len(llaves)-1):\n",
        "        aux = j+1\n",
        "        # Se comprueba si esa pareja de nodos estan conectados (Es decir. Si pertenecen a la lista de aristas)\n",
        "        if (llaves[i], llaves[aux]) in edgeList:\n",
        "\n",
        "            # Se extraen los valores de las llaves (en este caso las coordenadas de ese par de nodos)\n",
        "            n1 = nodos.get(llaves[i])\n",
        "            n2 = nodos.get(llaves[aux])\n",
        "\n",
        "\n",
        "            # En este caso el peso de las aristas es la distancia entre esos puntos.\n",
        "            # Con lo cual se aplica la formula de distancia entre 2 puntos para hallar este peso\n",
        "\n",
        "            # Formula: √(〖(x2-x1)〗^2+〖(y2-y1)〗^2 )\n",
        "            peso = math.sqrt(\n",
        "                math.pow((n2[0]-n1[0]), 2)+math.pow((n2[1]-n1[1]), 2))\n",
        "\n",
        "            # Se añade el elemento a la lista de acuerdo al formato de antes.\n",
        "            weightedList.append(\n",
        "                ((edgeList[count])[0], (edgeList[count])[1], math.ceil(peso)))  # Format es para que solo se utilicen dos puntos decimales\n",
        "            count += 1\n",
        "        else:\n",
        "            continue\n",
        "        aux += 1\n",
        "\n",
        "# Se añade la lista de pesos al grafo\n",
        "G.add_weighted_edges_from(weightedList)\n"
      ],
      "execution_count": 28,
      "outputs": []
    },
    {
      "cell_type": "code",
      "metadata": {
        "id": "h2icqyGvG_7U"
      },
      "source": [
        "# Poner los pesos como etiquetas de las aristas\n",
        "labels = nx.get_edge_attributes(G, 'weight')\n",
        "labels2 = {}  \n",
        "for nodo in nodos:\n",
        "  labels2[nodo] = nodo\n",
        "\n",
        "import matplotlib.pyplot as plt\n",
        "\n",
        "color_map = []\n",
        "for node in G:\n",
        "    if node == 'J':\n",
        "        color_map.append('red')\n",
        "    else: \n",
        "        color_map.append('blue')\n",
        "\n",
        "#plt.figure(figsize=(20,12))\n",
        "# Dibujar los nodos, aristas y etiquetas (pesos)\n",
        "#nx.draw_networkx_nodes(G, nodos, node_color = color_map)\n",
        "#nx.draw_networkx_edges(G, nodos, G.edges)\n",
        "#nx.draw_networkx_edge_labels(G, nodos, edge_labels=labels)\n",
        "\n",
        "#nx.draw_networkx_labels(G,nodos,labels2,font_size=12,font_color='#fff')\n",
        "# Imprimir en pantalla\n",
        "\n",
        "#plt.show()"
      ],
      "execution_count": 29,
      "outputs": []
    },
    {
      "cell_type": "code",
      "metadata": {
        "colab": {
          "base_uri": "https://localhost:8080/"
        },
        "id": "nFqh3O3VXE-j",
        "outputId": "bfdc86b7-2a27-476e-a1f1-d48afb5a2d04"
      },
      "source": [
        "visitados = []\n",
        "\n",
        "\n",
        "def visitar(nodo):\n",
        "  visitados.append(nodo)\n",
        "\n",
        "\n",
        "marked = [False] * (len(list(G))+1)\n",
        "vecinos = []\n",
        "\n",
        "\n",
        "def bfs(G, V):\n",
        "  v = llaves.index(V)\n",
        "  queue = [v]\n",
        "  while len(queue) > 0:\n",
        "    v = queue.pop(0)\n",
        "    if not marked[v]:\n",
        "      visitar(v)\n",
        "      marked[v] = True\n",
        "      vecinos = list(G.neighbors(llaves[v]))\n",
        "      for w in vecinos:\n",
        "          if not marked[llaves.index(w)]:\n",
        "              queue.append(llaves.index(w))\n",
        "\n",
        "\n",
        "bfs(G, 'J')\n",
        "\n",
        "recorrido = []\n",
        "for x in visitados:\n",
        "    recorrido.append(llaves[x])\n",
        "\n",
        "a = set(llaves)\n",
        "b = set(recorrido)\n",
        "\n",
        "if a == b:\n",
        "    print('El grafo es completamente conectado')\n",
        "else:\n",
        "    print('El grafo no escompletamente conectado!!!')\n",
        "\n",
        "print('Los nodos conectados son: ')\n",
        "print(recorrido)\n",
        "\n",
        "G2 = nx.Graph()\n",
        "\n",
        "\n",
        "\n"
      ],
      "execution_count": 30,
      "outputs": [
        {
          "output_type": "stream",
          "name": "stdout",
          "text": [
            "El grafo es completamente conectado\n",
            "Los nodos conectados son: \n",
            "['J', 'D', 'G', 'K', 'M', 'N', 'O', 'Q', 'B', 'C', 'E', 'F', 'H', 'A', 'I', 'L', 'P', 'R', 'T', 'S']\n"
          ]
        }
      ]
    },
    {
      "cell_type": "markdown",
      "metadata": {
        "id": "3Pq-TSRddPIU"
      },
      "source": [
        "# MINIMUM SPANNING TREE (kruskal)"
      ]
    },
    {
      "cell_type": "code",
      "metadata": {
        "colab": {
          "base_uri": "https://localhost:8080/",
          "height": 248
        },
        "id": "nsyC-WjFdJal",
        "outputId": "073f4858-da59-4b3d-fbba-9b3cd2895380"
      },
      "source": [
        "\n",
        "numeros = []\n",
        "for x in range(20):\n",
        "    numeros.append(x)\n",
        "\n",
        "c = 0\n",
        "for y in weightedList:\n",
        "    y = list(y)\n",
        "    y[0] = llaves.index(y[0])\n",
        "    y[1] = llaves.index(y[1])\n",
        "    weightedList[c] = (y[0], y[1], y[2])\n",
        "    c += 1\n",
        "\n",
        "\n",
        "position = {}\n",
        "values = list(nodos.values())\n",
        "c = 0\n",
        "for h in nodos:\n",
        "    position[c] = nodos[h]\n",
        "    c += 1\n",
        "\n",
        "D = nx.Graph()\n",
        "D.add_nodes_from(numeros)\n",
        "D.add_weighted_edges_from(weightedList)\n",
        "\n",
        "T = nx.minimum_spanning_tree(D)\n",
        "\n",
        "labels = nx.get_edge_attributes(T, 'weight')\n",
        "\n",
        "nx.draw_networkx_nodes(T, position, T.nodes)\n",
        "nx.draw_networkx_edges(T, position, T.edges)\n",
        "nx.draw_networkx_edge_labels(G, position, labels)\n",
        "nx.draw_networkx_labels(G, nodos, font_color='#fff')\n",
        "plt.show()\n"
      ],
      "execution_count": 31,
      "outputs": [
        {
          "output_type": "display_data",
          "data": {
            "image/png": "[encoded data removed]",
            "text/plain": [
              "<Figure size 432x288 with 1 Axes>"
            ]
          },
          "metadata": {}
        }
      ]
    }
  ]
}